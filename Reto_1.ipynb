{
  "nbformat": 4,
  "nbformat_minor": 0,
  "metadata": {
    "colab": {
      "name": "Reto_1.ipynb",
      "provenance": [],
      "collapsed_sections": [],
      "authorship_tag": "ABX9TyMLxB1qAUBKyRBNBZweQjd3",
      "include_colab_link": true
    },
    "kernelspec": {
      "name": "python3",
      "display_name": "Python 3"
    }
  },
  "cells": [
    {
      "cell_type": "markdown",
      "metadata": {
        "id": "view-in-github",
        "colab_type": "text"
      },
      "source": [
        "<a href=\"https://colab.research.google.com/github/cristianbordab/DataScienceFem/blob/main/Reto_1.ipynb\" target=\"_parent\"><img src=\"https://colab.research.google.com/assets/colab-badge.svg\" alt=\"Open In Colab\"/></a>"
      ]
    },
    {
      "cell_type": "code",
      "metadata": {
        "colab": {
          "base_uri": "https://localhost:8080/"
        },
        "id": "o2WFggOMxekW",
        "outputId": "09504aa3-24b9-48eb-d103-4759aeedf146"
      },
      "source": [
        "import math\r\n",
        "import os\r\n",
        "import random\r\n",
        "import re\r\n",
        "import sys\r\n",
        "\r\n",
        "\r\n",
        "if __name__ == '__main__':\r\n",
        "    print('Digita un numero para iniciar el programa: ')\r\n",
        "    n = int(input().strip())\r\n",
        "\"\"\"Given an integer, , perform the following conditional actions:\r\n",
        "\r\n",
        "If n is odd, print Weird\r\n",
        "If n is even and in the inclusive range of 2 to 5, print Not Weird\r\n",
        "If n is even and in the inclusive range of 6 to 20, print Weird\r\n",
        "If n is even and greater than 20 , print Not Weird\"\"\"\r\n",
        "\r\n",
        "if n % 2 == 0:\r\n",
        "  if  2 <= n <= 5:\r\n",
        "    print('Not Weird')\r\n",
        "  elif 6 <= n <= 20:\r\n",
        "    print('Weird')\r\n",
        "  else:\r\n",
        "    print('Not Weird')\r\n",
        "else:\r\n",
        "  print('Weird')"
      ],
      "execution_count": null,
      "outputs": [
        {
          "output_type": "stream",
          "text": [
            "Digita un numero para iniciar el programa: \n",
            "78\n",
            "Not Weird\n"
          ],
          "name": "stdout"
        }
      ]
    }
  ]
}